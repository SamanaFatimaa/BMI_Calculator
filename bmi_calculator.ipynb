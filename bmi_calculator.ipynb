{
 "cells": [
  {
   "cell_type": "markdown",
   "id": "d970c6c8",
   "metadata": {},
   "source": [
    "BMI Calculator "
   ]
  },
  {
   "cell_type": "code",
   "execution_count": null,
   "id": "fb75e430",
   "metadata": {},
   "outputs": [],
   "source": [
    "name = input(\"Enter your name: \")\n",
    "# Weight in kg\n",
    "weight_kg = float(input(\"Enter weight in kg: \"))  \n",
    "# Height in feet, convert to inches\n",
    "height_ft = float(input(\"Enter height in feet: \")) \n",
    "height_in = height_ft * 12  # Convert feet to inches\n",
    "\n",
    "# Convert weight to pounds\n",
    "weight_lb = weight_kg * 2.20462\n",
    "\n",
    "# bmi calculation using pounds and inches\n",
    "bmi = (weight_lb * 703) / (height_in ** 2)\n",
    "\n",
    "print(\"Your bmi is:\", round(bmi, 2))"
   ]
  },
  {
   "cell_type": "markdown",
   "id": "5a475b50",
   "metadata": {},
   "source": [
    "BMI categories for adults 20 and older. These categories are based on the [CDC bmi Calculator](https://www.cdc.gov/bmi/adult-calculator/bmi-categories.html)"
   ]
  },
  {
   "cell_type": "code",
   "execution_count": null,
   "id": "d88a1ff1",
   "metadata": {},
   "outputs": [],
   "source": [
    "if bmi > 0:\n",
    "    if bmi < 18.5:\n",
    "        print(name + \", you're underweight. It's important to maintain a healthy diet and consult a healthcare professional.\")\n",
    "    elif bmi <= 25:\n",
    "        print(name + \", you're in the normal weight range. Keep up the good work and stay healthy!\")\n",
    "    elif bmi < 30:\n",
    "        print(name + \", you're overweight. Consider exercising more and balancing your diet for better health.\")\n",
    "    elif bmi >= 30:\n",
    "        print(name + \", you're obese. It may be a good idea to focus on fitness and nutrition for overall well-being.\")\n",
    "    elif bmi < 35:\n",
    "        print(name + \", you're Class 1 obese. Health improvements are possible with gradual lifestyle changes.\")\n",
    "    elif bmi < 40:\n",
    "        print(name + \", you're Class 2 obese. It's essential to seek medical advice for a safe and effective plan.\")\n",
    "    else:\n",
    "        print(name + \", you're Class 3 obese (Severe Obesity). It's important to consult with a healthcare professional to manage your health.\")\n",
    "else:\n",
    "    print(\"Please enter a valid input.\")\n"
   ]
  }
 ],
 "metadata": {
  "kernelspec": {
   "display_name": ".venv",
   "language": "python",
   "name": "python3"
  },
  "language_info": {
   "codemirror_mode": {
    "name": "ipython",
    "version": 3
   },
   "file_extension": ".py",
   "mimetype": "text/x-python",
   "name": "python",
   "nbconvert_exporter": "python",
   "pygments_lexer": "ipython3",
   "version": "3.12.9"
  }
 },
 "nbformat": 4,
 "nbformat_minor": 5
}
